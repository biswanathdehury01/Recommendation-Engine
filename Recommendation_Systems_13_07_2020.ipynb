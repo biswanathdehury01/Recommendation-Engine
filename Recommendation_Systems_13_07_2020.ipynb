{
 "cells": [
  {
   "cell_type": "markdown",
   "metadata": {},
   "source": [
    "# RECOMMENDATION SYSTEM\n",
    "\n",
    "\n",
    "## Background\n",
    "\n",
    "E-commerce companies like AMazon , flipkart uses different recommendation systems to provide suggestions to the customers.Amazon uses currently item-item collaberrative filtering, which scales to massive datasets and produces high quality recommendation system in the real time. This system is a kind of a information filtering system which seeks to predict the \"rating\" or preferences which user is interested in.\n",
    "\n",
    "## Introduction to Recommendation systems\n",
    "\n",
    "In this modern world we are overloaded with data and this data provides us the useful information. But it's not possible for the user to extract the information which interest them from these data. In order to help the user to find out information about the product , recommedation systems where developed.\n",
    "\n",
    "Recommeder system creates a similarity between the user and items and exploits the similarity between user/item to make recommendations.\n",
    "\n",
    "## What recommeder system can solve ?\n",
    "\n",
    "It can help the user to find the right product.\n",
    "It can increase the user engagement. For example, there's 40% more click on the google news due to recommendation.\n",
    "It helps the item providers to deliver the items to the right user.In Amazon , 35 % products get sold due to recommendation.\n",
    "It helps to make the contents more personalized.In Netflix most of the rented movies are from recommendations.\n",
    "Types of recommendations\n",
    "There are mainly 6 types of the recommendations systems :-\n",
    "\n",
    "1. **Popularity based systems** :- It works by recommeding items viewed and purchased by most people and are rated high.It is not a personalized recommendation.\n",
    "\n",
    "2. **Classification model based**:- It works by understanding the features of the user and applying the classification algorithm to decide whether the user is interested or not in the prodcut.\n",
    "\n",
    "3. **Content based recommedations**:- It is based on the information on the contents of the item rather than on the user opinions.The main idea is if the user likes an item then he or she will like the \"other\" similar item.\n",
    "\n",
    "4. **Collaberative Filtering**:- It is based on assumption that people like things similar to other things they like, and things that are liked by other people with similar taste. it is mainly of two types: a) User-User b) Item -Item\n",
    "\n",
    "5. **Hybrid Approaches**:- This system approach is to combine collaborative filtering, content-based filtering, and other approaches .\n",
    "\n",
    "6. **Association rule mining** :- Association rules capture the relationships between items based on their patterns of co-occurrence across transactions.\n",
    "\n",
    "\n",
    "### Attribute Information:\n",
    "\n",
    "● userId : Every user identified with a unique id\n",
    "\n",
    "● productId : Every product identified with a unique id\n",
    "\n",
    "● Rating : Rating of the corresponding product by the corresponding user\n",
    "\n",
    "● timestamp : Time of the rating ( ignore this column for this exercise)\n",
    "\n",
    "Import Libraries"
   ]
  },
  {
   "cell_type": "code",
   "execution_count": 1,
   "metadata": {},
   "outputs": [
    {
     "name": "stderr",
     "output_type": "stream",
     "text": [
      "C:\\Users\\lenovo\\anaconda3\\lib\\site-packages\\sklearn\\externals\\joblib\\__init__.py:15: FutureWarning: sklearn.externals.joblib is deprecated in 0.21 and will be removed in 0.23. Please import this functionality directly from joblib, which can be installed with: pip install joblib. If this warning is raised when loading pickled models, you may need to re-serialize those models with scikit-learn 0.21+.\n",
      "  warnings.warn(msg, category=FutureWarning)\n"
     ]
    }
   ],
   "source": [
    "# Importing important libraries\n",
    "\n",
    "import numpy as np # linear algebra\n",
    "import pandas as pd # data processing, CSV file I/O (e.g. pd.read_csv)\n",
    "import os\n",
    "from IPython.core.interactiveshell import InteractiveShell\n",
    "InteractiveShell.ast_node_interactivity = \"all\"\n",
    "import math\n",
    "import json\n",
    "import time\n",
    "import matplotlib.pyplot as plt\n",
    "import seaborn as sns\n",
    "from sklearn.metrics.pairwise import cosine_similarity\n",
    "from sklearn.model_selection import train_test_split\n",
    "from sklearn.neighbors import NearestNeighbors\n",
    "from sklearn.externals import joblib\n",
    "import scipy.sparse\n",
    "from scipy.sparse import csr_matrix\n",
    "from scipy.sparse.linalg import svds\n",
    "import warnings; warnings.simplefilter('ignore')\n",
    "%matplotlib inline"
   ]
  },
  {
   "cell_type": "code",
   "execution_count": 5,
   "metadata": {
    "scrolled": true
   },
   "outputs": [
    {
     "data": {
      "text/html": [
       "<div>\n",
       "<style scoped>\n",
       "    .dataframe tbody tr th:only-of-type {\n",
       "        vertical-align: middle;\n",
       "    }\n",
       "\n",
       "    .dataframe tbody tr th {\n",
       "        vertical-align: top;\n",
       "    }\n",
       "\n",
       "    .dataframe thead th {\n",
       "        text-align: right;\n",
       "    }\n",
       "</style>\n",
       "<table border=\"1\" class=\"dataframe\">\n",
       "  <thead>\n",
       "    <tr style=\"text-align: right;\">\n",
       "      <th></th>\n",
       "      <th>productId</th>\n",
       "      <th>brand</th>\n",
       "      <th>title</th>\n",
       "      <th>Product_rating</th>\n",
       "      <th>totalReviews</th>\n",
       "      <th>price</th>\n",
       "      <th>originalPrice</th>\n",
       "      <th>name</th>\n",
       "      <th>userId</th>\n",
       "      <th>User_rating</th>\n",
       "      <th>date</th>\n",
       "      <th>verified</th>\n",
       "      <th>title.1</th>\n",
       "      <th>body</th>\n",
       "      <th>helpfulVotes</th>\n",
       "    </tr>\n",
       "  </thead>\n",
       "  <tbody>\n",
       "    <tr>\n",
       "      <th>0</th>\n",
       "      <td>B0000SX2UC</td>\n",
       "      <td>0</td>\n",
       "      <td>Dual-Band / Tri-Mode Sprint PCS Phone w/ Voice...</td>\n",
       "      <td>3.0</td>\n",
       "      <td>14</td>\n",
       "      <td>0.00</td>\n",
       "      <td>0.00</td>\n",
       "      <td>Janet</td>\n",
       "      <td>10001</td>\n",
       "      <td>3</td>\n",
       "      <td>October 11, 2005</td>\n",
       "      <td>False</td>\n",
       "      <td>Def not best, but not worst</td>\n",
       "      <td>I had the Samsung A600 for awhile which is abs...</td>\n",
       "      <td>1.0</td>\n",
       "    </tr>\n",
       "    <tr>\n",
       "      <th>1</th>\n",
       "      <td>B0000SX2UC</td>\n",
       "      <td>0</td>\n",
       "      <td>Dual-Band / Tri-Mode Sprint PCS Phone w/ Voice...</td>\n",
       "      <td>3.0</td>\n",
       "      <td>14</td>\n",
       "      <td>0.00</td>\n",
       "      <td>0.00</td>\n",
       "      <td>Luke Wyatt</td>\n",
       "      <td>10002</td>\n",
       "      <td>1</td>\n",
       "      <td>January 7, 2004</td>\n",
       "      <td>False</td>\n",
       "      <td>Text Messaging Doesn't Work</td>\n",
       "      <td>Due to a software issue between Nokia and Spri...</td>\n",
       "      <td>17.0</td>\n",
       "    </tr>\n",
       "    <tr>\n",
       "      <th>2</th>\n",
       "      <td>B0000SX2UC</td>\n",
       "      <td>0</td>\n",
       "      <td>Dual-Band / Tri-Mode Sprint PCS Phone w/ Voice...</td>\n",
       "      <td>3.0</td>\n",
       "      <td>14</td>\n",
       "      <td>0.00</td>\n",
       "      <td>0.00</td>\n",
       "      <td>Brooke</td>\n",
       "      <td>10003</td>\n",
       "      <td>5</td>\n",
       "      <td>December 30, 2003</td>\n",
       "      <td>False</td>\n",
       "      <td>Love This Phone</td>\n",
       "      <td>This is a great, reliable phone. I also purcha...</td>\n",
       "      <td>5.0</td>\n",
       "    </tr>\n",
       "    <tr>\n",
       "      <th>3</th>\n",
       "      <td>B0000SX2UC</td>\n",
       "      <td>0</td>\n",
       "      <td>Dual-Band / Tri-Mode Sprint PCS Phone w/ Voice...</td>\n",
       "      <td>3.0</td>\n",
       "      <td>14</td>\n",
       "      <td>0.00</td>\n",
       "      <td>0.00</td>\n",
       "      <td>amy m. teague</td>\n",
       "      <td>10004</td>\n",
       "      <td>3</td>\n",
       "      <td>March 18, 2004</td>\n",
       "      <td>False</td>\n",
       "      <td>Love the Phone, BUT...!</td>\n",
       "      <td>I love the phone and all, because I really did...</td>\n",
       "      <td>1.0</td>\n",
       "    </tr>\n",
       "    <tr>\n",
       "      <th>4</th>\n",
       "      <td>B0000SX2UC</td>\n",
       "      <td>0</td>\n",
       "      <td>Dual-Band / Tri-Mode Sprint PCS Phone w/ Voice...</td>\n",
       "      <td>3.0</td>\n",
       "      <td>14</td>\n",
       "      <td>0.00</td>\n",
       "      <td>0.00</td>\n",
       "      <td>tristazbimmer</td>\n",
       "      <td>10005</td>\n",
       "      <td>4</td>\n",
       "      <td>August 28, 2005</td>\n",
       "      <td>False</td>\n",
       "      <td>Great phone service and options, lousy case!</td>\n",
       "      <td>The phone has been great for every purpose it ...</td>\n",
       "      <td>1.0</td>\n",
       "    </tr>\n",
       "    <tr>\n",
       "      <th>...</th>\n",
       "      <td>...</td>\n",
       "      <td>...</td>\n",
       "      <td>...</td>\n",
       "      <td>...</td>\n",
       "      <td>...</td>\n",
       "      <td>...</td>\n",
       "      <td>...</td>\n",
       "      <td>...</td>\n",
       "      <td>...</td>\n",
       "      <td>...</td>\n",
       "      <td>...</td>\n",
       "      <td>...</td>\n",
       "      <td>...</td>\n",
       "      <td>...</td>\n",
       "      <td>...</td>\n",
       "    </tr>\n",
       "    <tr>\n",
       "      <th>67981</th>\n",
       "      <td>B081H6STQQ</td>\n",
       "      <td>Sony</td>\n",
       "      <td>Sony Xperia 1 Unlocked Smartphone and WH1000XM...</td>\n",
       "      <td>4.5</td>\n",
       "      <td>70</td>\n",
       "      <td>948.00</td>\n",
       "      <td>0.00</td>\n",
       "      <td>jande</td>\n",
       "      <td>50452</td>\n",
       "      <td>5</td>\n",
       "      <td>August 16, 2019</td>\n",
       "      <td>False</td>\n",
       "      <td>Awesome Phone, but finger scanner is a big mis...</td>\n",
       "      <td>I love the camera on this phone. The screen is...</td>\n",
       "      <td>1.0</td>\n",
       "    </tr>\n",
       "    <tr>\n",
       "      <th>67982</th>\n",
       "      <td>B081H6STQQ</td>\n",
       "      <td>Sony</td>\n",
       "      <td>Sony Xperia 1 Unlocked Smartphone and WH1000XM...</td>\n",
       "      <td>4.5</td>\n",
       "      <td>70</td>\n",
       "      <td>948.00</td>\n",
       "      <td>0.00</td>\n",
       "      <td>2cool4u</td>\n",
       "      <td>50453</td>\n",
       "      <td>5</td>\n",
       "      <td>September 14, 2019</td>\n",
       "      <td>False</td>\n",
       "      <td>Simply Amazing!</td>\n",
       "      <td>I've been an Xperia user for several years and...</td>\n",
       "      <td>1.0</td>\n",
       "    </tr>\n",
       "    <tr>\n",
       "      <th>67983</th>\n",
       "      <td>B081H6STQQ</td>\n",
       "      <td>Sony</td>\n",
       "      <td>Sony Xperia 1 Unlocked Smartphone and WH1000XM...</td>\n",
       "      <td>4.5</td>\n",
       "      <td>70</td>\n",
       "      <td>948.00</td>\n",
       "      <td>0.00</td>\n",
       "      <td>simon</td>\n",
       "      <td>11236</td>\n",
       "      <td>5</td>\n",
       "      <td>July 14, 2019</td>\n",
       "      <td>False</td>\n",
       "      <td>great phon3, but many bugs need to fix. still ...</td>\n",
       "      <td>buy one more for my cousin</td>\n",
       "      <td>NaN</td>\n",
       "    </tr>\n",
       "    <tr>\n",
       "      <th>67984</th>\n",
       "      <td>B081TJFVCJ</td>\n",
       "      <td>Apple</td>\n",
       "      <td>Apple iPhone X, 64GB, Gray - Fully Unlocked (R...</td>\n",
       "      <td>5.0</td>\n",
       "      <td>1</td>\n",
       "      <td>478.97</td>\n",
       "      <td>0.00</td>\n",
       "      <td>Tobiasz Jedrysiak</td>\n",
       "      <td>55896</td>\n",
       "      <td>5</td>\n",
       "      <td>December 24, 2019</td>\n",
       "      <td>True</td>\n",
       "      <td>Phone is like new</td>\n",
       "      <td>Product looks and works like new. Very much re...</td>\n",
       "      <td>NaN</td>\n",
       "    </tr>\n",
       "    <tr>\n",
       "      <th>67985</th>\n",
       "      <td>B0825BB7SG</td>\n",
       "      <td>Samsung</td>\n",
       "      <td>Straight Talk Samsung Galaxy A10e Smartphone 5...</td>\n",
       "      <td>5.0</td>\n",
       "      <td>1</td>\n",
       "      <td>139.00</td>\n",
       "      <td>139.26</td>\n",
       "      <td>Owen Gonzalez</td>\n",
       "      <td>55897</td>\n",
       "      <td>5</td>\n",
       "      <td>December 11, 2019</td>\n",
       "      <td>False</td>\n",
       "      <td>Outstanding phone for the price</td>\n",
       "      <td>I love the size and style of this phone. It is...</td>\n",
       "      <td>NaN</td>\n",
       "    </tr>\n",
       "  </tbody>\n",
       "</table>\n",
       "<p>67986 rows × 15 columns</p>\n",
       "</div>"
      ],
      "text/plain": [
       "        productId    brand                                              title  \\\n",
       "0      B0000SX2UC        0  Dual-Band / Tri-Mode Sprint PCS Phone w/ Voice...   \n",
       "1      B0000SX2UC        0  Dual-Band / Tri-Mode Sprint PCS Phone w/ Voice...   \n",
       "2      B0000SX2UC        0  Dual-Band / Tri-Mode Sprint PCS Phone w/ Voice...   \n",
       "3      B0000SX2UC        0  Dual-Band / Tri-Mode Sprint PCS Phone w/ Voice...   \n",
       "4      B0000SX2UC        0  Dual-Band / Tri-Mode Sprint PCS Phone w/ Voice...   \n",
       "...           ...      ...                                                ...   \n",
       "67981  B081H6STQQ     Sony  Sony Xperia 1 Unlocked Smartphone and WH1000XM...   \n",
       "67982  B081H6STQQ     Sony  Sony Xperia 1 Unlocked Smartphone and WH1000XM...   \n",
       "67983  B081H6STQQ     Sony  Sony Xperia 1 Unlocked Smartphone and WH1000XM...   \n",
       "67984  B081TJFVCJ    Apple  Apple iPhone X, 64GB, Gray - Fully Unlocked (R...   \n",
       "67985  B0825BB7SG  Samsung  Straight Talk Samsung Galaxy A10e Smartphone 5...   \n",
       "\n",
       "       Product_rating  totalReviews   price  originalPrice               name  \\\n",
       "0                 3.0            14    0.00           0.00              Janet   \n",
       "1                 3.0            14    0.00           0.00         Luke Wyatt   \n",
       "2                 3.0            14    0.00           0.00             Brooke   \n",
       "3                 3.0            14    0.00           0.00      amy m. teague   \n",
       "4                 3.0            14    0.00           0.00      tristazbimmer   \n",
       "...               ...           ...     ...            ...                ...   \n",
       "67981             4.5            70  948.00           0.00              jande   \n",
       "67982             4.5            70  948.00           0.00            2cool4u   \n",
       "67983             4.5            70  948.00           0.00              simon   \n",
       "67984             5.0             1  478.97           0.00  Tobiasz Jedrysiak   \n",
       "67985             5.0             1  139.00         139.26      Owen Gonzalez   \n",
       "\n",
       "      userId  User_rating                date  verified  \\\n",
       "0      10001            3    October 11, 2005     False   \n",
       "1      10002            1     January 7, 2004     False   \n",
       "2      10003            5   December 30, 2003     False   \n",
       "3      10004            3      March 18, 2004     False   \n",
       "4      10005            4     August 28, 2005     False   \n",
       "...      ...          ...                 ...       ...   \n",
       "67981  50452            5     August 16, 2019     False   \n",
       "67982  50453            5  September 14, 2019     False   \n",
       "67983  11236            5       July 14, 2019     False   \n",
       "67984  55896            5   December 24, 2019      True   \n",
       "67985  55897            5   December 11, 2019     False   \n",
       "\n",
       "                                                 title.1  \\\n",
       "0                            Def not best, but not worst   \n",
       "1                            Text Messaging Doesn't Work   \n",
       "2                                        Love This Phone   \n",
       "3                                Love the Phone, BUT...!   \n",
       "4           Great phone service and options, lousy case!   \n",
       "...                                                  ...   \n",
       "67981  Awesome Phone, but finger scanner is a big mis...   \n",
       "67982                                    Simply Amazing!   \n",
       "67983  great phon3, but many bugs need to fix. still ...   \n",
       "67984                                  Phone is like new   \n",
       "67985                    Outstanding phone for the price   \n",
       "\n",
       "                                                    body  helpfulVotes  \n",
       "0      I had the Samsung A600 for awhile which is abs...           1.0  \n",
       "1      Due to a software issue between Nokia and Spri...          17.0  \n",
       "2      This is a great, reliable phone. I also purcha...           5.0  \n",
       "3      I love the phone and all, because I really did...           1.0  \n",
       "4      The phone has been great for every purpose it ...           1.0  \n",
       "...                                                  ...           ...  \n",
       "67981  I love the camera on this phone. The screen is...           1.0  \n",
       "67982  I've been an Xperia user for several years and...           1.0  \n",
       "67983                         buy one more for my cousin           NaN  \n",
       "67984  Product looks and works like new. Very much re...           NaN  \n",
       "67985  I love the size and style of this phone. It is...           NaN  \n",
       "\n",
       "[67986 rows x 15 columns]"
      ]
     },
     "execution_count": 5,
     "metadata": {},
     "output_type": "execute_result"
    }
   ],
   "source": [
    "# Loading the Dataframe\n",
    "\n",
    "mobile = pd.read_csv('C:/Users/lenovo/Desktop/GitHub Projects/Recommendation Engines/Recommendation-Engine/Files/mobile-reviews & iteam Merged.csv')\n",
    "mobile"
   ]
  },
  {
   "cell_type": "code",
   "execution_count": 6,
   "metadata": {},
   "outputs": [
    {
     "data": {
      "text/plain": [
       "productId          object\n",
       "brand              object\n",
       "title              object\n",
       "Product_rating    float64\n",
       "totalReviews        int64\n",
       "price             float64\n",
       "originalPrice     float64\n",
       "name               object\n",
       "userId             object\n",
       "User_rating         int64\n",
       "date               object\n",
       "verified             bool\n",
       "title.1            object\n",
       "body               object\n",
       "helpfulVotes      float64\n",
       "dtype: object"
      ]
     },
     "execution_count": 6,
     "metadata": {},
     "output_type": "execute_result"
    }
   ],
   "source": [
    "#Check the datatypes\n",
    "mobile.dtypes"
   ]
  },
  {
   "cell_type": "code",
   "execution_count": 7,
   "metadata": {},
   "outputs": [
    {
     "name": "stdout",
     "output_type": "stream",
     "text": [
      "<class 'pandas.core.frame.DataFrame'>\n",
      "RangeIndex: 67986 entries, 0 to 67985\n",
      "Data columns (total 15 columns):\n",
      " #   Column          Non-Null Count  Dtype  \n",
      "---  ------          --------------  -----  \n",
      " 0   productId       67986 non-null  object \n",
      " 1   brand           67986 non-null  object \n",
      " 2   title           67986 non-null  object \n",
      " 3   Product_rating  67986 non-null  float64\n",
      " 4   totalReviews    67986 non-null  int64  \n",
      " 5   price           67986 non-null  float64\n",
      " 6   originalPrice   67986 non-null  float64\n",
      " 7   name            67984 non-null  object \n",
      " 8   userId          67980 non-null  object \n",
      " 9   User_rating     67986 non-null  int64  \n",
      " 10  date            67986 non-null  object \n",
      " 11  verified        67986 non-null  bool   \n",
      " 12  title.1         67972 non-null  object \n",
      " 13  body            67965 non-null  object \n",
      " 14  helpfulVotes    27215 non-null  float64\n",
      "dtypes: bool(1), float64(4), int64(2), object(8)\n",
      "memory usage: 7.3+ MB\n"
     ]
    }
   ],
   "source": [
    "mobile.info()"
   ]
  },
  {
   "cell_type": "code",
   "execution_count": 8,
   "metadata": {},
   "outputs": [
    {
     "data": {
      "text/plain": [
       "count    67986.000000\n",
       "mean         3.766826\n",
       "std          0.429197\n",
       "min          1.000000\n",
       "25%          3.500000\n",
       "50%          3.800000\n",
       "75%          4.100000\n",
       "max          5.000000\n",
       "Name: Product_rating, dtype: float64"
      ]
     },
     "execution_count": 8,
     "metadata": {},
     "output_type": "execute_result"
    }
   ],
   "source": [
    "#Five point summary for Product_rating oveall mobile dataset\n",
    "\n",
    "mobile.describe()['Product_rating'].T"
   ]
  },
  {
   "cell_type": "code",
   "execution_count": 10,
   "metadata": {},
   "outputs": [
    {
     "name": "stdout",
     "output_type": "stream",
     "text": [
      "Minimum rating is: 1\n",
      "Maximum rating is: 5\n"
     ]
    }
   ],
   "source": [
    "#Find the minimum and maximum ratings\n",
    "print('Minimum rating is: %d' %(mobile.Product_rating.min()))\n",
    "print('Maximum rating is: %d' %(mobile.Product_rating.max()))"
   ]
  },
  {
   "cell_type": "markdown",
   "metadata": {},
   "source": [
    "## Handling Missing values"
   ]
  },
  {
   "cell_type": "code",
   "execution_count": 11,
   "metadata": {},
   "outputs": [
    {
     "name": "stdout",
     "output_type": "stream",
     "text": [
      "Number of missing values across columns: \n",
      " productId             0\n",
      "brand                 0\n",
      "title                 0\n",
      "Product_rating        0\n",
      "totalReviews          0\n",
      "price                 0\n",
      "originalPrice         0\n",
      "name                  2\n",
      "userId                6\n",
      "User_rating           0\n",
      "date                  0\n",
      "verified              0\n",
      "title.1              14\n",
      "body                 21\n",
      "helpfulVotes      40771\n",
      "dtype: int64\n"
     ]
    }
   ],
   "source": [
    "#Check for missing values\n",
    "print('Number of missing values across columns: \\n',mobile.isnull().sum())"
   ]
  },
  {
   "cell_type": "markdown",
   "metadata": {},
   "source": [
    "## Ratings"
   ]
  },
  {
   "cell_type": "code",
   "execution_count": 13,
   "metadata": {},
   "outputs": [
    {
     "data": {
      "text/plain": [
       "<seaborn.axisgrid.FacetGrid at 0x1eb0edf2f08>"
      ]
     },
     "execution_count": 13,
     "metadata": {},
     "output_type": "execute_result"
    },
    {
     "data": {
      "image/png": "[encoded data removed]",
      "text/plain": [
       "<Figure size 720x360 with 1 Axes>"
      ]
     },
     "metadata": {},
     "output_type": "display_data"
    }
   ],
   "source": [
    "# Check the distribution of the User_rating\n",
    "with sns.axes_style('white'):\n",
    "    g = sns.factorplot(\"User_rating\", data=mobile, aspect=2.0,kind='count')\n",
    "    g.set_ylabels(\"Total number of ratings\")"
   ]
  },
  {
   "cell_type": "code",
   "execution_count": 14,
   "metadata": {},
   "outputs": [
    {
     "data": {
      "text/plain": [
       "<seaborn.axisgrid.FacetGrid at 0x1eb1602e148>"
      ]
     },
     "execution_count": 14,
     "metadata": {},
     "output_type": "execute_result"
    },
    {
     "data": {
      "image/png": "[encoded data removed]",
      "text/plain": [
       "<Figure size 720x360 with 1 Axes>"
      ]
     },
     "metadata": {},
     "output_type": "display_data"
    }
   ],
   "source": [
    "# Check the distribution of the Product_rating\n",
    "with sns.axes_style('white'):\n",
    "    g = sns.factorplot(\"Product_rating\", data=mobile, aspect=2.0,kind='count')\n",
    "    g.set_ylabels(\"Total number of ratings\")"
   ]
  },
  {
   "cell_type": "markdown",
   "metadata": {},
   "source": [
    "## Unique Users and products"
   ]
  },
  {
   "cell_type": "code",
   "execution_count": 24,
   "metadata": {},
   "outputs": [
    {
     "name": "stdout",
     "output_type": "stream",
     "text": [
      "Total data \n",
      "--------------------------------------------------\n",
      "\n",
      "Total no of ratings : 67986\n",
      "Total No of Brands  : 11\n",
      "Total No of products   : 720\n",
      "Total No of Users   : 46386\n"
     ]
    }
   ],
   "source": [
    "print(\"Total data \")\n",
    "print(\"-\"*50)\n",
    "print(\"\\nTotal no of ratings :\",mobile.shape[0])\n",
    "print(\"Total No of Brands  :\", mobile[\"brand\"].nunique())\n",
    "print(\"Total No of products   :\", mobile[\"productId\"].nunique())\n",
    "print(\"Total No of Users   :\", mobile[\"userId\"].nunique())"
   ]
  },
  {
   "cell_type": "markdown",
   "metadata": {},
   "source": [
    "## Analyzing the rating"
   ]
  },
  {
   "cell_type": "code",
   "execution_count": 25,
   "metadata": {},
   "outputs": [
    {
     "data": {
      "text/plain": [
       "userId\n",
       "10010      6323\n",
       "10062       347\n",
       "10010.0     191\n",
       "10288       108\n",
       "13964       107\n",
       "Name: User_rating, dtype: int64"
      ]
     },
     "execution_count": 25,
     "metadata": {},
     "output_type": "execute_result"
    }
   ],
   "source": [
    "#Analysis of rating given by the user \n",
    "\n",
    "no_of_rated_products_per_user = mobile.groupby(by='userId')['User_rating'].count().sort_values(ascending=False)\n",
    "\n",
    "no_of_rated_products_per_user.head()"
   ]
  },
  {
   "cell_type": "code",
   "execution_count": 26,
   "metadata": {},
   "outputs": [
    {
     "data": {
      "text/plain": [
       "count    46386.000000\n",
       "mean         1.465528\n",
       "std         29.485484\n",
       "min          1.000000\n",
       "25%          1.000000\n",
       "50%          1.000000\n",
       "75%          1.000000\n",
       "max       6323.000000\n",
       "Name: User_rating, dtype: float64"
      ]
     },
     "execution_count": 26,
     "metadata": {},
     "output_type": "execute_result"
    }
   ],
   "source": [
    "no_of_rated_products_per_user.describe()"
   ]
  },
  {
   "cell_type": "code",
   "execution_count": 30,
   "metadata": {},
   "outputs": [
    {
     "name": "stdout",
     "output_type": "stream",
     "text": [
      "\n",
      " No of rated product more than 50 per user : 16\n",
      "\n"
     ]
    }
   ],
   "source": [
    "print('\\n No of rated product more than 50 per user : {}\\n'.format(sum(no_of_rated_products_per_user >= 50)) )"
   ]
  },
  {
   "cell_type": "markdown",
   "metadata": {},
   "source": [
    "## 1. Popularity Based Recommendation\n",
    "Popularity based recommendation system works with the trend. It basically uses the items which are in trend right now. For example, if any product which is usually bought by every new user then there are chances that it may suggest that item to the user who just signed up.\n",
    "\n",
    "The problems with popularity based recommendation system is that the personalization is not available with this method i.e. even though you know the behaviour of the user you cannot recommend items accordingly."
   ]
  },
  {
   "cell_type": "code",
   "execution_count": 41,
   "metadata": {
    "scrolled": true
   },
   "outputs": [
    {
     "data": {
      "text/html": [
       "<div>\n",
       "<style scoped>\n",
       "    .dataframe tbody tr th:only-of-type {\n",
       "        vertical-align: middle;\n",
       "    }\n",
       "\n",
       "    .dataframe tbody tr th {\n",
       "        vertical-align: top;\n",
       "    }\n",
       "\n",
       "    .dataframe thead th {\n",
       "        text-align: right;\n",
       "    }\n",
       "</style>\n",
       "<table border=\"1\" class=\"dataframe\">\n",
       "  <thead>\n",
       "    <tr style=\"text-align: right;\">\n",
       "      <th></th>\n",
       "      <th>productId</th>\n",
       "      <th>brand</th>\n",
       "      <th>title</th>\n",
       "      <th>Product_rating</th>\n",
       "      <th>totalReviews</th>\n",
       "      <th>price</th>\n",
       "      <th>originalPrice</th>\n",
       "      <th>name</th>\n",
       "      <th>userId</th>\n",
       "      <th>User_rating</th>\n",
       "      <th>date</th>\n",
       "      <th>verified</th>\n",
       "      <th>title.1</th>\n",
       "      <th>body</th>\n",
       "      <th>helpfulVotes</th>\n",
       "    </tr>\n",
       "  </thead>\n",
       "  <tbody>\n",
       "    <tr>\n",
       "      <th>126</th>\n",
       "      <td>B002UHS0UI</td>\n",
       "      <td>Motorola</td>\n",
       "      <td>Verizon Wireless Motorola RAZR V3m - Silver</td>\n",
       "      <td>2.7</td>\n",
       "      <td>208</td>\n",
       "      <td>0.0</td>\n",
       "      <td>0.0</td>\n",
       "      <td>Joyful</td>\n",
       "      <td>10122</td>\n",
       "      <td>3</td>\n",
       "      <td>August 25, 2016</td>\n",
       "      <td>True</td>\n",
       "      <td>Remove previous negative review that was not V...</td>\n",
       "      <td>First of all I need to delete my lst review si...</td>\n",
       "      <td>24.0</td>\n",
       "    </tr>\n",
       "    <tr>\n",
       "      <th>127</th>\n",
       "      <td>B002UHS0UI</td>\n",
       "      <td>Motorola</td>\n",
       "      <td>Verizon Wireless Motorola RAZR V3m - Silver</td>\n",
       "      <td>2.7</td>\n",
       "      <td>208</td>\n",
       "      <td>0.0</td>\n",
       "      <td>0.0</td>\n",
       "      <td>Educated Consumer</td>\n",
       "      <td>10123</td>\n",
       "      <td>5</td>\n",
       "      <td>November 21, 2019</td>\n",
       "      <td>True</td>\n",
       "      <td>Sound Quality: Impressive, Battery Life: Out O...</td>\n",
       "      <td>I made a three hour international call and it ...</td>\n",
       "      <td>NaN</td>\n",
       "    </tr>\n",
       "    <tr>\n",
       "      <th>128</th>\n",
       "      <td>B002UHS0UI</td>\n",
       "      <td>Motorola</td>\n",
       "      <td>Verizon Wireless Motorola RAZR V3m - Silver</td>\n",
       "      <td>2.7</td>\n",
       "      <td>208</td>\n",
       "      <td>0.0</td>\n",
       "      <td>0.0</td>\n",
       "      <td>mike k</td>\n",
       "      <td>10124</td>\n",
       "      <td>1</td>\n",
       "      <td>May 1, 2019</td>\n",
       "      <td>True</td>\n",
       "      <td>Dont waste your money on this junk!</td>\n",
       "      <td>Horrible purchase. Came today and first thing ...</td>\n",
       "      <td>1.0</td>\n",
       "    </tr>\n",
       "    <tr>\n",
       "      <th>129</th>\n",
       "      <td>B002UHS0UI</td>\n",
       "      <td>Motorola</td>\n",
       "      <td>Verizon Wireless Motorola RAZR V3m - Silver</td>\n",
       "      <td>2.7</td>\n",
       "      <td>208</td>\n",
       "      <td>0.0</td>\n",
       "      <td>0.0</td>\n",
       "      <td>Eddie Gamble</td>\n",
       "      <td>10125</td>\n",
       "      <td>1</td>\n",
       "      <td>September 5, 2018</td>\n",
       "      <td>True</td>\n",
       "      <td>Wouldn't charge after only a month of use.</td>\n",
       "      <td>After only having this phone for a month it wo...</td>\n",
       "      <td>1.0</td>\n",
       "    </tr>\n",
       "    <tr>\n",
       "      <th>130</th>\n",
       "      <td>B002UHS0UI</td>\n",
       "      <td>Motorola</td>\n",
       "      <td>Verizon Wireless Motorola RAZR V3m - Silver</td>\n",
       "      <td>2.7</td>\n",
       "      <td>208</td>\n",
       "      <td>0.0</td>\n",
       "      <td>0.0</td>\n",
       "      <td>Andrew</td>\n",
       "      <td>10126</td>\n",
       "      <td>4</td>\n",
       "      <td>February 14, 2015</td>\n",
       "      <td>True</td>\n",
       "      <td>Great!</td>\n",
       "      <td>The phone arrived with some scratches on the f...</td>\n",
       "      <td>4.0</td>\n",
       "    </tr>\n",
       "    <tr>\n",
       "      <th>...</th>\n",
       "      <td>...</td>\n",
       "      <td>...</td>\n",
       "      <td>...</td>\n",
       "      <td>...</td>\n",
       "      <td>...</td>\n",
       "      <td>...</td>\n",
       "      <td>...</td>\n",
       "      <td>...</td>\n",
       "      <td>...</td>\n",
       "      <td>...</td>\n",
       "      <td>...</td>\n",
       "      <td>...</td>\n",
       "      <td>...</td>\n",
       "      <td>...</td>\n",
       "      <td>...</td>\n",
       "    </tr>\n",
       "    <tr>\n",
       "      <th>67979</th>\n",
       "      <td>B081H6STQQ</td>\n",
       "      <td>Sony</td>\n",
       "      <td>Sony Xperia 1 Unlocked Smartphone and WH1000XM...</td>\n",
       "      <td>4.5</td>\n",
       "      <td>70</td>\n",
       "      <td>948.0</td>\n",
       "      <td>0.0</td>\n",
       "      <td>Cindy Cowles</td>\n",
       "      <td>50450</td>\n",
       "      <td>3</td>\n",
       "      <td>July 17, 2019</td>\n",
       "      <td>False</td>\n",
       "      <td>Updated review</td>\n",
       "      <td>Update: If you like sending and receiving pict...</td>\n",
       "      <td>2.0</td>\n",
       "    </tr>\n",
       "    <tr>\n",
       "      <th>67980</th>\n",
       "      <td>B081H6STQQ</td>\n",
       "      <td>Sony</td>\n",
       "      <td>Sony Xperia 1 Unlocked Smartphone and WH1000XM...</td>\n",
       "      <td>4.5</td>\n",
       "      <td>70</td>\n",
       "      <td>948.0</td>\n",
       "      <td>0.0</td>\n",
       "      <td>Los Kositos</td>\n",
       "      <td>50451</td>\n",
       "      <td>5</td>\n",
       "      <td>October 7, 2019</td>\n",
       "      <td>False</td>\n",
       "      <td>From iPhone to Android and loving it</td>\n",
       "      <td>I love my new phone. I've been dying to do a r...</td>\n",
       "      <td>1.0</td>\n",
       "    </tr>\n",
       "    <tr>\n",
       "      <th>67981</th>\n",
       "      <td>B081H6STQQ</td>\n",
       "      <td>Sony</td>\n",
       "      <td>Sony Xperia 1 Unlocked Smartphone and WH1000XM...</td>\n",
       "      <td>4.5</td>\n",
       "      <td>70</td>\n",
       "      <td>948.0</td>\n",
       "      <td>0.0</td>\n",
       "      <td>jande</td>\n",
       "      <td>50452</td>\n",
       "      <td>5</td>\n",
       "      <td>August 16, 2019</td>\n",
       "      <td>False</td>\n",
       "      <td>Awesome Phone, but finger scanner is a big mis...</td>\n",
       "      <td>I love the camera on this phone. The screen is...</td>\n",
       "      <td>1.0</td>\n",
       "    </tr>\n",
       "    <tr>\n",
       "      <th>67982</th>\n",
       "      <td>B081H6STQQ</td>\n",
       "      <td>Sony</td>\n",
       "      <td>Sony Xperia 1 Unlocked Smartphone and WH1000XM...</td>\n",
       "      <td>4.5</td>\n",
       "      <td>70</td>\n",
       "      <td>948.0</td>\n",
       "      <td>0.0</td>\n",
       "      <td>2cool4u</td>\n",
       "      <td>50453</td>\n",
       "      <td>5</td>\n",
       "      <td>September 14, 2019</td>\n",
       "      <td>False</td>\n",
       "      <td>Simply Amazing!</td>\n",
       "      <td>I've been an Xperia user for several years and...</td>\n",
       "      <td>1.0</td>\n",
       "    </tr>\n",
       "    <tr>\n",
       "      <th>67983</th>\n",
       "      <td>B081H6STQQ</td>\n",
       "      <td>Sony</td>\n",
       "      <td>Sony Xperia 1 Unlocked Smartphone and WH1000XM...</td>\n",
       "      <td>4.5</td>\n",
       "      <td>70</td>\n",
       "      <td>948.0</td>\n",
       "      <td>0.0</td>\n",
       "      <td>simon</td>\n",
       "      <td>11236</td>\n",
       "      <td>5</td>\n",
       "      <td>July 14, 2019</td>\n",
       "      <td>False</td>\n",
       "      <td>great phon3, but many bugs need to fix. still ...</td>\n",
       "      <td>buy one more for my cousin</td>\n",
       "      <td>NaN</td>\n",
       "    </tr>\n",
       "  </tbody>\n",
       "</table>\n",
       "<p>61669 rows × 15 columns</p>\n",
       "</div>"
      ],
      "text/plain": [
       "        productId     brand  \\\n",
       "126    B002UHS0UI  Motorola   \n",
       "127    B002UHS0UI  Motorola   \n",
       "128    B002UHS0UI  Motorola   \n",
       "129    B002UHS0UI  Motorola   \n",
       "130    B002UHS0UI  Motorola   \n",
       "...           ...       ...   \n",
       "67979  B081H6STQQ      Sony   \n",
       "67980  B081H6STQQ      Sony   \n",
       "67981  B081H6STQQ      Sony   \n",
       "67982  B081H6STQQ      Sony   \n",
       "67983  B081H6STQQ      Sony   \n",
       "\n",
       "                                                   title  Product_rating  \\\n",
       "126          Verizon Wireless Motorola RAZR V3m - Silver             2.7   \n",
       "127          Verizon Wireless Motorola RAZR V3m - Silver             2.7   \n",
       "128          Verizon Wireless Motorola RAZR V3m - Silver             2.7   \n",
       "129          Verizon Wireless Motorola RAZR V3m - Silver             2.7   \n",
       "130          Verizon Wireless Motorola RAZR V3m - Silver             2.7   \n",
       "...                                                  ...             ...   \n",
       "67979  Sony Xperia 1 Unlocked Smartphone and WH1000XM...             4.5   \n",
       "67980  Sony Xperia 1 Unlocked Smartphone and WH1000XM...             4.5   \n",
       "67981  Sony Xperia 1 Unlocked Smartphone and WH1000XM...             4.5   \n",
       "67982  Sony Xperia 1 Unlocked Smartphone and WH1000XM...             4.5   \n",
       "67983  Sony Xperia 1 Unlocked Smartphone and WH1000XM...             4.5   \n",
       "\n",
       "       totalReviews  price  originalPrice               name userId  \\\n",
       "126             208    0.0            0.0             Joyful  10122   \n",
       "127             208    0.0            0.0  Educated Consumer  10123   \n",
       "128             208    0.0            0.0             mike k  10124   \n",
       "129             208    0.0            0.0       Eddie Gamble  10125   \n",
       "130             208    0.0            0.0             Andrew  10126   \n",
       "...             ...    ...            ...                ...    ...   \n",
       "67979            70  948.0            0.0       Cindy Cowles  50450   \n",
       "67980            70  948.0            0.0        Los Kositos  50451   \n",
       "67981            70  948.0            0.0              jande  50452   \n",
       "67982            70  948.0            0.0            2cool4u  50453   \n",
       "67983            70  948.0            0.0              simon  11236   \n",
       "\n",
       "       User_rating                date  verified  \\\n",
       "126              3     August 25, 2016      True   \n",
       "127              5   November 21, 2019      True   \n",
       "128              1         May 1, 2019      True   \n",
       "129              1   September 5, 2018      True   \n",
       "130              4   February 14, 2015      True   \n",
       "...            ...                 ...       ...   \n",
       "67979            3       July 17, 2019     False   \n",
       "67980            5     October 7, 2019     False   \n",
       "67981            5     August 16, 2019     False   \n",
       "67982            5  September 14, 2019     False   \n",
       "67983            5       July 14, 2019     False   \n",
       "\n",
       "                                                 title.1  \\\n",
       "126    Remove previous negative review that was not V...   \n",
       "127    Sound Quality: Impressive, Battery Life: Out O...   \n",
       "128                  Dont waste your money on this junk!   \n",
       "129           Wouldn't charge after only a month of use.   \n",
       "130                                               Great!   \n",
       "...                                                  ...   \n",
       "67979                                     Updated review   \n",
       "67980               From iPhone to Android and loving it   \n",
       "67981  Awesome Phone, but finger scanner is a big mis...   \n",
       "67982                                    Simply Amazing!   \n",
       "67983  great phon3, but many bugs need to fix. still ...   \n",
       "\n",
       "                                                    body  helpfulVotes  \n",
       "126    First of all I need to delete my lst review si...          24.0  \n",
       "127    I made a three hour international call and it ...           NaN  \n",
       "128    Horrible purchase. Came today and first thing ...           1.0  \n",
       "129    After only having this phone for a month it wo...           1.0  \n",
       "130    The phone arrived with some scratches on the f...           4.0  \n",
       "...                                                  ...           ...  \n",
       "67979  Update: If you like sending and receiving pict...           2.0  \n",
       "67980  I love my new phone. I've been dying to do a r...           1.0  \n",
       "67981  I love the camera on this phone. The screen is...           1.0  \n",
       "67982  I've been an Xperia user for several years and...           1.0  \n",
       "67983                         buy one more for my cousin           NaN  \n",
       "\n",
       "[61669 rows x 15 columns]"
      ]
     },
     "execution_count": 41,
     "metadata": {},
     "output_type": "execute_result"
    }
   ],
   "source": [
    "#Getting the new dataframe which contains users who has given 50 or more ratings\n",
    "\n",
    "new_df=mobile.groupby(\"productId\").filter(lambda x:x['Product_rating'].count() >=50)\n",
    "new_df"
   ]
  },
  {
   "cell_type": "code",
   "execution_count": 43,
   "metadata": {},
   "outputs": [
    {
     "data": {
      "text/plain": [
       "[<matplotlib.lines.Line2D at 0x1eb1ac94908>]"
      ]
     },
     "execution_count": 43,
     "metadata": {},
     "output_type": "execute_result"
    },
    {
     "data": {
      "text/plain": [
       "Text(0.5, 1.0, '# RATINGS per Product')"
      ]
     },
     "execution_count": 43,
     "metadata": {},
     "output_type": "execute_result"
    },
    {
     "data": {
      "text/plain": [
       "Text(0.5, 0, 'Product')"
      ]
     },
     "execution_count": 43,
     "metadata": {},
     "output_type": "execute_result"
    },
    {
     "data": {
      "text/plain": [
       "Text(0, 0.5, 'No of ratings per product')"
      ]
     },
     "execution_count": 43,
     "metadata": {},
     "output_type": "execute_result"
    },
    {
     "data": {
      "text/plain": [
       "[]"
      ]
     },
     "execution_count": 43,
     "metadata": {},
     "output_type": "execute_result"
    },
    {
     "data": {
      "image/png": "[encoded data removed]",
      "text/plain": [
       "<Figure size 576x288 with 1 Axes>"
      ]
     },
     "metadata": {
      "needs_background": "light"
     },
     "output_type": "display_data"
    }
   ],
   "source": [
    "no_of_ratings_per_product = new_df.groupby(by='productId')['Product_rating'].count().sort_values(ascending=False)\n",
    "\n",
    "fig = plt.figure(figsize=plt.figaspect(.5))\n",
    "ax = plt.gca()\n",
    "plt.plot(no_of_ratings_per_product.values)\n",
    "plt.title('# RATINGS per Product')\n",
    "plt.xlabel('Product')\n",
    "plt.ylabel('No of ratings per product')\n",
    "ax.set_xticklabels([])\n",
    "\n",
    "plt.show()"
   ]
  },
  {
   "cell_type": "code",
   "execution_count": 47,
   "metadata": {},
   "outputs": [
    {
     "data": {
      "text/plain": [
       "productId\n",
       "B002UHS0UI    2.7\n",
       "B002WTC1NG    3.6\n",
       "B0033SFV5A    3.3\n",
       "B003FCO9XE    2.6\n",
       "B003P2VNAQ    3.6\n",
       "Name: Product_rating, dtype: float64"
      ]
     },
     "execution_count": 47,
     "metadata": {},
     "output_type": "execute_result"
    }
   ],
   "source": [
    "#Average rating of the product \n",
    "\n",
    "new_df.groupby('productId')['Product_rating'].mean().head()"
   ]
  },
  {
   "cell_type": "code",
   "execution_count": 49,
   "metadata": {},
   "outputs": [
    {
     "data": {
      "text/plain": [
       "productId\n",
       "B07K1M36CM    4.6\n",
       "B07YQ58NPF    4.6\n",
       "B07YZLRS3Z    4.6\n",
       "B07YJHXZT6    4.6\n",
       "B07WW25BSV    4.6\n",
       "Name: Product_rating, dtype: float64"
      ]
     },
     "execution_count": 49,
     "metadata": {},
     "output_type": "execute_result"
    }
   ],
   "source": [
    "new_df.groupby('productId')['Product_rating'].mean().sort_values(ascending=False).head()"
   ]
  },
  {
   "cell_type": "code",
   "execution_count": 50,
   "metadata": {},
   "outputs": [
    {
     "data": {
      "text/plain": [
       "productId\n",
       "B00F2SKPIM    981\n",
       "B00836Y6B2    925\n",
       "B07FZH9BGV    791\n",
       "B01D1J9BGU    775\n",
       "B018OMP8ES    773\n",
       "Name: Product_rating, dtype: int64"
      ]
     },
     "execution_count": 50,
     "metadata": {},
     "output_type": "execute_result"
    }
   ],
   "source": [
    "#Total no of rating for product\n",
    "\n",
    "new_df.groupby('productId')['Product_rating'].count().sort_values(ascending=False).head()"
   ]
  },
  {
   "cell_type": "code",
   "execution_count": 54,
   "metadata": {},
   "outputs": [
    {
     "data": {
      "text/html": [
       "<div>\n",
       "<style scoped>\n",
       "    .dataframe tbody tr th:only-of-type {\n",
       "        vertical-align: middle;\n",
       "    }\n",
       "\n",
       "    .dataframe tbody tr th {\n",
       "        vertical-align: top;\n",
       "    }\n",
       "\n",
       "    .dataframe thead th {\n",
       "        text-align: right;\n",
       "    }\n",
       "</style>\n",
       "<table border=\"1\" class=\"dataframe\">\n",
       "  <thead>\n",
       "    <tr style=\"text-align: right;\">\n",
       "      <th></th>\n",
       "      <th>Product_rating</th>\n",
       "      <th>rating_counts</th>\n",
       "    </tr>\n",
       "    <tr>\n",
       "      <th>productId</th>\n",
       "      <th></th>\n",
       "      <th></th>\n",
       "    </tr>\n",
       "  </thead>\n",
       "  <tbody>\n",
       "    <tr>\n",
       "      <th>B002UHS0UI</th>\n",
       "      <td>2.7</td>\n",
       "      <td>207</td>\n",
       "    </tr>\n",
       "    <tr>\n",
       "      <th>B002WTC1NG</th>\n",
       "      <td>3.6</td>\n",
       "      <td>348</td>\n",
       "    </tr>\n",
       "    <tr>\n",
       "      <th>B0033SFV5A</th>\n",
       "      <td>3.3</td>\n",
       "      <td>56</td>\n",
       "    </tr>\n",
       "    <tr>\n",
       "      <th>B003FCO9XE</th>\n",
       "      <td>2.6</td>\n",
       "      <td>77</td>\n",
       "    </tr>\n",
       "    <tr>\n",
       "      <th>B003P2VNAQ</th>\n",
       "      <td>3.6</td>\n",
       "      <td>67</td>\n",
       "    </tr>\n",
       "  </tbody>\n",
       "</table>\n",
       "</div>"
      ],
      "text/plain": [
       "            Product_rating  rating_counts\n",
       "productId                                \n",
       "B002UHS0UI             2.7            207\n",
       "B002WTC1NG             3.6            348\n",
       "B0033SFV5A             3.3             56\n",
       "B003FCO9XE             2.6             77\n",
       "B003P2VNAQ             3.6             67"
      ]
     },
     "execution_count": 54,
     "metadata": {},
     "output_type": "execute_result"
    }
   ],
   "source": [
    "ratings_mean_count = pd.DataFrame(new_df.groupby('productId')['Product_rating'].mean())\n",
    "ratings_mean_count['rating_counts'] = pd.DataFrame(new_df.groupby('productId')['Product_rating'].count())\n",
    "ratings_mean_count.head()"
   ]
  },
  {
   "cell_type": "code",
   "execution_count": 55,
   "metadata": {},
   "outputs": [
    {
     "data": {
      "text/plain": [
       "981"
      ]
     },
     "execution_count": 55,
     "metadata": {},
     "output_type": "execute_result"
    }
   ],
   "source": [
    "ratings_mean_count['rating_counts'].max()"
   ]
  },
  {
   "cell_type": "code",
   "execution_count": 56,
   "metadata": {},
   "outputs": [
    {
     "data": {
      "text/plain": [
       "<Figure size 576x432 with 0 Axes>"
      ]
     },
     "execution_count": 56,
     "metadata": {},
     "output_type": "execute_result"
    },
    {
     "data": {
      "text/plain": [
       "<matplotlib.axes._subplots.AxesSubplot at 0x1eb1ae64088>"
      ]
     },
     "execution_count": 56,
     "metadata": {},
     "output_type": "execute_result"
    },
    {
     "data": {
      "image/png": "[encoded data removed]",
      "text/plain": [
       "<Figure size 576x432 with 1 Axes>"
      ]
     },
     "metadata": {
      "needs_background": "light"
     },
     "output_type": "display_data"
    }
   ],
   "source": [
    "plt.figure(figsize=(8,6))\n",
    "plt.rcParams['patch.force_edgecolor'] = True\n",
    "ratings_mean_count['rating_counts'].hist(bins=50)"
   ]
  },
  {
   "cell_type": "code",
   "execution_count": 57,
   "metadata": {},
   "outputs": [
    {
     "data": {
      "text/plain": [
       "<Figure size 576x432 with 0 Axes>"
      ]
     },
     "execution_count": 57,
     "metadata": {},
     "output_type": "execute_result"
    },
    {
     "data": {
      "text/plain": [
       "<matplotlib.axes._subplots.AxesSubplot at 0x1eb1af19e88>"
      ]
     },
     "execution_count": 57,
     "metadata": {},
     "output_type": "execute_result"
    },
    {
     "data": {
      "image/png": "[encoded data removed]",
      "text/plain": [
       "<Figure size 576x432 with 1 Axes>"
      ]
     },
     "metadata": {
      "needs_background": "light"
     },
     "output_type": "display_data"
    }
   ],
   "source": [
    "plt.figure(figsize=(8,6))\n",
    "plt.rcParams['patch.force_edgecolor'] = True\n",
    "ratings_mean_count['Product_rating'].hist(bins=50)\n"
   ]
  },
  {
   "cell_type": "code",
   "execution_count": 58,
   "metadata": {},
   "outputs": [
    {
     "data": {
      "text/plain": [
       "<Figure size 576x432 with 0 Axes>"
      ]
     },
     "execution_count": 58,
     "metadata": {},
     "output_type": "execute_result"
    },
    {
     "data": {
      "text/plain": [
       "<seaborn.axisgrid.JointGrid at 0x1eb1b152888>"
      ]
     },
     "execution_count": 58,
     "metadata": {},
     "output_type": "execute_result"
    },
    {
     "data": {
      "text/plain": [
       "<Figure size 576x432 with 0 Axes>"
      ]
     },
     "metadata": {},
     "output_type": "display_data"
    },
    {
     "data": {
      "image/png": "[encoded data removed]",
      "text/plain": [
       "<Figure size 432x432 with 3 Axes>"
      ]
     },
     "metadata": {
      "needs_background": "light"
     },
     "output_type": "display_data"
    }
   ],
   "source": [
    "plt.figure(figsize=(8,6))\n",
    "plt.rcParams['patch.force_edgecolor'] = True\n",
    "sns.jointplot(x='Product_rating', y='rating_counts', data=ratings_mean_count, alpha=0.4)"
   ]
  },
  {
   "cell_type": "code",
   "execution_count": 59,
   "metadata": {},
   "outputs": [
    {
     "data": {
      "text/plain": [
       "<matplotlib.axes._subplots.AxesSubplot at 0x1eb1b3b39c8>"
      ]
     },
     "execution_count": 59,
     "metadata": {},
     "output_type": "execute_result"
    },
    {
     "data": {
      "image/png": "[encoded data removed]",
      "text/plain": [
       "<Figure size 432x288 with 1 Axes>"
      ]
     },
     "metadata": {
      "needs_background": "light"
     },
     "output_type": "display_data"
    }
   ],
   "source": [
    "popular_products = pd.DataFrame(new_df.groupby('productId')['Product_rating'].count())\n",
    "most_popular = popular_products.sort_values('Product_rating', ascending=False)\n",
    "most_popular.head(30).plot(kind = \"bar\")"
   ]
  },
  {
   "cell_type": "markdown",
   "metadata": {},
   "source": [
    "## Collaberative filtering (Item-Item recommedation)\n",
    "\n",
    "Collaborative filtering is commonly used for recommender systems. These techniques aim to fill in the missing entries of a user-item association matrix. We are going to use collaborative filtering (CF) approach. CF is based on the idea that the best recommendations come from people who have similar tastes. In other words, it uses historical item ratings of like-minded people to predict how someone would rate an item.Collaborative filtering has two sub-categories that are generally called memory based and model-based approaches.\n",
    "\n",
    "https://pypi.org/project/scikit-surprise/"
   ]
  },
  {
   "cell_type": "code",
   "execution_count": 60,
   "metadata": {},
   "outputs": [],
   "source": []
  },
  {
   "cell_type": "code",
   "execution_count": null,
   "metadata": {},
   "outputs": [],
   "source": []
  },
  {
   "cell_type": "code",
   "execution_count": null,
   "metadata": {},
   "outputs": [],
   "source": []
  }
 ],
 "metadata": {
  "kernelspec": {
   "display_name": "Python 3",
   "language": "python",
   "name": "python3"
  },
  "language_info": {
   "codemirror_mode": {
    "name": "ipython",
    "version": 3
   },
   "file_extension": ".py",
   "mimetype": "text/x-python",
   "name": "python",
   "nbconvert_exporter": "python",
   "pygments_lexer": "ipython3",
   "version": "3.7.6"
  }
 },
 "nbformat": 4,
 "nbformat_minor": 4
}
